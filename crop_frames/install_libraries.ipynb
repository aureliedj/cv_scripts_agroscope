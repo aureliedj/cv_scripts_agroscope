{
 "cells": [
  {
   "cell_type": "code",
   "execution_count": 1,
   "metadata": {},
   "outputs": [],
   "source": [
    "import subprocess\n",
    "import os"
   ]
  },
  {
   "cell_type": "code",
   "execution_count": null,
   "metadata": {},
   "outputs": [],
   "source": [
    "# Set the path to the requirements.txt file\n",
    "requirements_path = os.getcwd() + \"/requirements.txt\"\n",
    "\n",
    "# Read in the required libraries from the requirements.txt file\n",
    "with open(requirements_path, \"r\") as f:\n",
    "    required_libraries = f.read().splitlines()\n",
    "\n",
    "# Loop through each library and check if it is installed\n",
    "for library in required_libraries:\n",
    "    try:\n",
    "        __import__(library)\n",
    "        print(f\"{library} is already installed.\")\n",
    "    except ImportError:\n",
    "        # If the library is not installed, use pip to install it\n",
    "        print(f\"{library} is not installed. Installing...\")\n",
    "        subprocess.check_call([\"pip\", \"install\", library])"
   ]
  }
 ],
 "metadata": {
  "kernelspec": {
   "display_name": "work",
   "language": "python",
   "name": "python3"
  },
  "language_info": {
   "codemirror_mode": {
    "name": "ipython",
    "version": 3
   },
   "file_extension": ".py",
   "mimetype": "text/x-python",
   "name": "python",
   "nbconvert_exporter": "python",
   "pygments_lexer": "ipython3",
   "version": "3.8.5"
  },
  "orig_nbformat": 4,
  "vscode": {
   "interpreter": {
    "hash": "63a4d2dfb30e44965a0a2bf2fa4d783e97e6bbe187b14d4f6889a238866853da"
   }
  }
 },
 "nbformat": 4,
 "nbformat_minor": 2
}
