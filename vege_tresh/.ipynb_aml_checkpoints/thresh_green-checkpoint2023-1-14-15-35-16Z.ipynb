{
  "cells": [
    {
      "cell_type": "code",
      "source": [
        "from glob import glob\r\n",
        "import plantcv as pcv\r\n",
        "import cv2\r\n",
        "import pandas as pd\r\n",
        "import numpy as np\r\n",
        "import os\r\n",
        "import matplotlib.pyplot as plt\r\n",
        "from tqdm import tqdm"
      ],
      "outputs": [],
      "execution_count": 132,
      "metadata": {
        "gather": {
          "logged": 1676388400529
        }
      }
    },
    {
      "cell_type": "code",
      "source": [
        "def lab_threshold(img, l_factor = 0.36, b_factor = 0.61, k1 = 7, k2 = 7, closing = True):\r\n",
        "    \r\n",
        "    lab_img = cv2.cvtColor(img, cv2.COLOR_BGR2LAB)\r\n",
        "    l, a, b = lab_img[:,:,0]/255,lab_img[:,:,1]/255, lab_img[:,:,2]/255\r\n",
        "\r\n",
        "    mask = np.zeros(l.shape)\r\n",
        "    cond = np.logical_or(l < l_factor, b > b_factor)\r\n",
        "    mask[ cond ] = 255\r\n",
        "\r\n",
        "    # remove noise in the background\r\n",
        "    kernel = np.ones((k1,k1),np.uint8)\r\n",
        "    output = cv2.morphologyEx(mask, cv2.MORPH_OPEN, kernel)\r\n",
        "\r\n",
        "    # close retrieved shapes\r\n",
        "    if closing:\r\n",
        "        kernel = np.ones((k2,k2),np.uint8)\r\n",
        "        output = cv2.morphologyEx(output, cv2.MORPH_CLOSE, kernel)\r\n",
        "    \r\n",
        "    return output"
      ],
      "outputs": [],
      "execution_count": 134,
      "metadata": {
        "jupyter": {
          "source_hidden": false,
          "outputs_hidden": false
        },
        "nteract": {
          "transient": {
            "deleting": false
          }
        },
        "gather": {
          "logged": 1676388502001
        }
      }
    },
    {
      "cell_type": "code",
      "source": [
        "paths = glob(os.getcwd() + '/images/AnalyseLeafArea_SO/*.JPG')\r\n",
        "outpath = os.getcwd() + '/images/AnalyseLeafArea_output'\r\n",
        "arr = []\r\n",
        "for p in tqdm(paths):\r\n",
        "    fn = p.split('/')[-1]\r\n",
        "    img = cv2.imread(p)\r\n",
        "    mask = lab_threshold(img)\r\n",
        "\r\n",
        "    #save output\r\n",
        "    cv2.imwrite( outpath + '/mask_' + fn, mask)\r\n",
        "    h, w = mask.shape\r\n",
        "    tot_pixels = h*w\r\n",
        "    \r\n",
        "    n_pixels = np.count_nonzero(mask)\r\n",
        "    res = n_pixels / tot_pixels\r\n",
        "    arr.append([fn, n_pixels, tot_pixels, res])\r\n",
        "\r\n",
        "df = pd.DataFrame(np.array(arr), columns = ['Filename', 'Green pixels', 'Total pixels', 'Coverage'])\r\n",
        "df.to_csv('coverage_results.csv')\r\n"
      ],
      "outputs": [
        {
          "output_type": "stream",
          "name": "stderr",
          "text": "\n  0%|          | 0/2736 [00:00<?, ?it/s]\u001b[A\n  0%|          | 1/2736 [00:00<20:05,  2.27it/s]\u001b[A\n  0%|          | 2/2736 [00:00<18:57,  2.40it/s]\u001b[A\n  0%|          | 3/2736 [00:01<18:45,  2.43it/s]\u001b[A\n  0%|          | 4/2736 [00:01<19:43,  2.31it/s]\u001b[A\n  0%|          | 5/2736 [00:02<26:02,  1.75it/s]\u001b[A\n  0%|          | 6/2736 [00:02<23:26,  1.94it/s]\u001b[A\n  0%|          | 7/2736 [00:03<22:17,  2.04it/s]\u001b[A\n  0%|          | 8/2736 [00:03<20:41,  2.20it/s]\u001b[A\n  0%|          | 9/2736 [00:04<19:32,  2.33it/s]\u001b[A\n  0%|          | 10/2736 [00:04<18:30,  2.46it/s]\u001b[A\n  0%|          | 11/2736 [00:04<18:29,  2.46it/s]\u001b[A\n  0%|          | 12/2736 [00:05<18:45,  2.42it/s]\u001b[A\n  0%|          | 13/2736 [00:05<19:37,  2.31it/s]\u001b[A\n  1%|          | 14/2736 [00:06<18:49,  2.41it/s]\u001b[A\n  1%|          | 15/2736 [00:07<35:39,  1.27it/s]\u001b[A\n  1%|          | 16/2736 [00:09<46:50,  1.03s/it]\u001b[A\n  1%|          | 17/2736 [00:10<54:02,  1.19s/it]\u001b[A\n  1%|          | 18/2736 [00:11<45:43,  1.01s/it]\u001b[A\n  1%|          | 19/2736 [00:12<38:36,  1.17it/s]\u001b[A\n  1%|          | 20/2736 [00:12<39:36,  1.14it/s]\u001b[A\n  1%|          | 21/2736 [00:14<41:35,  1.09it/s]\u001b[A"
        }
      ],
      "execution_count": 143,
      "metadata": {
        "jupyter": {
          "source_hidden": false,
          "outputs_hidden": false
        },
        "nteract": {
          "transient": {
            "deleting": false
          }
        },
        "gather": {
          "logged": 1676388897131
        }
      }
    },
    {
      "cell_type": "code",
      "source": [
        "df"
      ],
      "outputs": [
        {
          "output_type": "execute_result",
          "execution_count": 137,
          "data": {
            "text/plain": "                                       Filename Green pixels Total pixels  \\\n0           145b_A_SO_IMG_4717_220831_WB_A2.JPG      1523688      4610560   \n1  145b_A_SO_IMG_4717_220831_WB_A2_Feuilles.JPG      1455962      4610560   \n2     145b_A_SO_IMG_4717_220831_WB_A2_Tiges.JPG        68236      4610560   \n3           145b_B_SO_IMG_4718_220831_WB_A2.JPG      1163718      4628480   \n\n               Coverage  \n0    0.3304778595224875  \n1   0.31578853761799003  \n2  0.014799937534702943  \n3   0.25142552198561946  ",
            "text/html": "<div>\n<style scoped>\n    .dataframe tbody tr th:only-of-type {\n        vertical-align: middle;\n    }\n\n    .dataframe tbody tr th {\n        vertical-align: top;\n    }\n\n    .dataframe thead th {\n        text-align: right;\n    }\n</style>\n<table border=\"1\" class=\"dataframe\">\n  <thead>\n    <tr style=\"text-align: right;\">\n      <th></th>\n      <th>Filename</th>\n      <th>Green pixels</th>\n      <th>Total pixels</th>\n      <th>Coverage</th>\n    </tr>\n  </thead>\n  <tbody>\n    <tr>\n      <th>0</th>\n      <td>145b_A_SO_IMG_4717_220831_WB_A2.JPG</td>\n      <td>1523688</td>\n      <td>4610560</td>\n      <td>0.3304778595224875</td>\n    </tr>\n    <tr>\n      <th>1</th>\n      <td>145b_A_SO_IMG_4717_220831_WB_A2_Feuilles.JPG</td>\n      <td>1455962</td>\n      <td>4610560</td>\n      <td>0.31578853761799003</td>\n    </tr>\n    <tr>\n      <th>2</th>\n      <td>145b_A_SO_IMG_4717_220831_WB_A2_Tiges.JPG</td>\n      <td>68236</td>\n      <td>4610560</td>\n      <td>0.014799937534702943</td>\n    </tr>\n    <tr>\n      <th>3</th>\n      <td>145b_B_SO_IMG_4718_220831_WB_A2.JPG</td>\n      <td>1163718</td>\n      <td>4628480</td>\n      <td>0.25142552198561946</td>\n    </tr>\n  </tbody>\n</table>\n</div>"
          },
          "metadata": {}
        }
      ],
      "execution_count": 137,
      "metadata": {
        "jupyter": {
          "source_hidden": false,
          "outputs_hidden": false
        },
        "nteract": {
          "transient": {
            "deleting": false
          }
        },
        "gather": {
          "logged": 1676388607984
        }
      }
    },
    {
      "cell_type": "code",
      "source": [],
      "outputs": [],
      "execution_count": null,
      "metadata": {
        "jupyter": {
          "source_hidden": false,
          "outputs_hidden": false
        },
        "nteract": {
          "transient": {
            "deleting": false
          }
        }
      }
    }
  ],
  "metadata": {
    "kernelspec": {
      "name": "python38-azureml",
      "language": "python",
      "display_name": "Python 3.8 - AzureML"
    },
    "language_info": {
      "name": "python",
      "version": "3.8.5",
      "mimetype": "text/x-python",
      "codemirror_mode": {
        "name": "ipython",
        "version": 3
      },
      "pygments_lexer": "ipython3",
      "nbconvert_exporter": "python",
      "file_extension": ".py"
    },
    "kernel_info": {
      "name": "python38-azureml"
    },
    "microsoft": {
      "host": {
        "AzureML": {
          "notebookHasBeenCompleted": true
        }
      }
    },
    "nteract": {
      "version": "nteract-front-end@1.0.0"
    }
  },
  "nbformat": 4,
  "nbformat_minor": 2
}