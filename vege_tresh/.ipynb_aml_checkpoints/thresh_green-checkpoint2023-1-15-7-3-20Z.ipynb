{
  "cells": [
    {
      "cell_type": "code",
      "source": [
        "from glob import glob\r\n",
        "import plantcv as pcv\r\n",
        "import cv2\r\n",
        "import pandas as pd\r\n",
        "import numpy as np\r\n",
        "import os\r\n",
        "import matplotlib.pyplot as plt\r\n",
        "from tqdm import tqdm"
      ],
      "outputs": [],
      "execution_count": 132,
      "metadata": {
        "gather": {
          "logged": 1676388400529
        }
      }
    },
    {
      "cell_type": "code",
      "source": [
        "def lab_threshold(img, l_factor = 0.36, b_factor = 0.61, k1 = 7, k2 = 7, closing = False):\r\n",
        "    \r\n",
        "    lab_img = cv2.cvtColor(img, cv2.COLOR_BGR2LAB)\r\n",
        "    l, a, b = lab_img[:,:,0]/255,lab_img[:,:,1]/255, lab_img[:,:,2]/255\r\n",
        "\r\n",
        "    mask = np.zeros(l.shape)\r\n",
        "    cond = np.logical_or(l < l_factor, b > b_factor)\r\n",
        "    mask[cond] = 255\r\n",
        "\r\n",
        "    # remove noise in the background\r\n",
        "    kernel = np.ones((k1,k1), np.uint8)\r\n",
        "    output = cv2.morphologyEx(mask, cv2.MORPH_OPEN, kernel)\r\n",
        "\r\n",
        "    # close retrieved shapes\r\n",
        "    if closing:\r\n",
        "        kernel = np.ones((k2,k2),np.uint8)\r\n",
        "        output = cv2.morphologyEx(output, cv2.MORPH_CLOSE, kernel)\r\n",
        "    \r\n",
        "    return output"
      ],
      "outputs": [],
      "execution_count": 148,
      "metadata": {
        "jupyter": {
          "source_hidden": false,
          "outputs_hidden": false
        },
        "nteract": {
          "transient": {
            "deleting": false
          }
        },
        "gather": {
          "logged": 1676389321896
        }
      }
    },
    {
      "cell_type": "code",
      "source": [
        "paths = glob(os.getcwd() + '/images/AnalyseLeafArea_SO/*s.JPG')\r\n",
        "outpath = os.getcwd() + '/images/AnalyseLeafArea_output'\r\n",
        "arr = []\r\n",
        "\r\n",
        "for p in tqdm(paths[:10]):\r\n",
        "    fn = p.split('/')[-1]\r\n",
        "    img = cv2.imread(p)\r\n",
        "\r\n",
        "    if 'Tiges' in p:\r\n",
        "        mask = lab_threshold(img)\r\n",
        "    else:\r\n",
        "        mask = lab_threshold(img, k1 = 5, closing = True)\r\n",
        "\r\n",
        "    #save output\r\n",
        "    cv2.imwrite( outpath + '/mask_' + fn, mask)\r\n",
        "    h, w = mask.shape\r\n",
        "    tot_pixels = h*w\r\n",
        "    \r\n",
        "    n_pixels = np.count_nonzero(mask)\r\n",
        "    res = n_pixels / tot_pixels\r\n",
        "    arr.append([fn, n_pixels, tot_pixels, res])\r\n",
        "\r\n",
        "df = pd.DataFrame(np.array(arr), columns = ['Filename', 'Green pixels', 'Total pixels', 'Coverage'])\r\n",
        "df.to_csv('coverage_results.csv')\r\n"
      ],
      "outputs": [
        {
          "output_type": "stream",
          "name": "stderr",
          "text": "\n  0%|          | 0/10 [00:00<?, ?it/s]\u001b[A\n 10%|█         | 1/10 [00:00<00:03,  2.57it/s]\u001b[A\n 20%|██        | 2/10 [00:00<00:02,  2.72it/s]\u001b[A\n 30%|███       | 3/10 [00:01<00:02,  2.61it/s]\u001b[A\n 40%|████      | 4/10 [00:01<00:02,  2.51it/s]\u001b[A\n 50%|█████     | 5/10 [00:01<00:01,  2.69it/s]\u001b[A\n 60%|██████    | 6/10 [00:02<00:01,  2.60it/s]\u001b[A\n 70%|███████   | 7/10 [00:02<00:01,  2.56it/s]\u001b[A\n 80%|████████  | 8/10 [00:03<00:00,  2.68it/s]\u001b[A\n 90%|█████████ | 9/10 [00:03<00:00,  2.51it/s]\u001b[A\n100%|██████████| 10/10 [00:03<00:00,  2.60it/s]\u001b[A\n"
        }
      ],
      "execution_count": 149,
      "metadata": {
        "jupyter": {
          "source_hidden": false,
          "outputs_hidden": false
        },
        "nteract": {
          "transient": {
            "deleting": false
          }
        },
        "gather": {
          "logged": 1676389326360
        }
      }
    },
    {
      "cell_type": "code",
      "source": [],
      "outputs": [],
      "execution_count": null,
      "metadata": {
        "jupyter": {
          "source_hidden": false,
          "outputs_hidden": false
        },
        "nteract": {
          "transient": {
            "deleting": false
          }
        }
      }
    }
  ],
  "metadata": {
    "kernelspec": {
      "name": "python38-azureml",
      "language": "python",
      "display_name": "Python 3.8 - AzureML"
    },
    "language_info": {
      "name": "python",
      "version": "3.8.5",
      "mimetype": "text/x-python",
      "codemirror_mode": {
        "name": "ipython",
        "version": 3
      },
      "pygments_lexer": "ipython3",
      "nbconvert_exporter": "python",
      "file_extension": ".py"
    },
    "kernel_info": {
      "name": "python38-azureml"
    },
    "microsoft": {
      "host": {
        "AzureML": {
          "notebookHasBeenCompleted": true
        }
      }
    },
    "nteract": {
      "version": "nteract-front-end@1.0.0"
    }
  },
  "nbformat": 4,
  "nbformat_minor": 2
}