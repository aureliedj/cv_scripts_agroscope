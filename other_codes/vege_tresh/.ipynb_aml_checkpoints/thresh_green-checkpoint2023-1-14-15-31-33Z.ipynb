{
  "cells": [
    {
      "cell_type": "code",
      "source": [
        "from glob import glob\r\n",
        "import plantcv as pcv\r\n",
        "import cv2\r\n",
        "import pandas as pd\r\n",
        "import numpy as np\r\n",
        "import os\r\n",
        "import matplotlib.pyplot as plt\r\n",
        "from tqdm import tqdm"
      ],
      "outputs": [],
      "execution_count": 132,
      "metadata": {
        "gather": {
          "logged": 1676388400529
        }
      }
    },
    {
      "cell_type": "code",
      "source": [
        "def lab_threshold(img, l_factor = 0.36, b_factor = 0.61, k1 = 7, k2 = 7, closing = True):\r\n",
        "    \r\n",
        "    lab_img = cv2.cvtColor(img, cv2.COLOR_BGR2LAB)\r\n",
        "    l, a, b = lab_img[:,:,0]/255,lab_img[:,:,1]/255, lab_img[:,:,2]/255\r\n",
        "\r\n",
        "    mask = np.zeros(l.shape)\r\n",
        "    cond = np.logical_or(l < l_factor, b > b_factor)\r\n",
        "    mask[ cond ] = 255\r\n",
        "\r\n",
        "    # remove noise in the background\r\n",
        "    kernel = np.ones((k1,k1),np.uint8)\r\n",
        "    output = cv2.morphologyEx(mask, cv2.MORPH_OPEN, kernel)\r\n",
        "\r\n",
        "    # close retrieved shapes\r\n",
        "    if closing:\r\n",
        "        kernel = np.ones((k2,k2),np.uint8)\r\n",
        "        output = cv2.morphologyEx(output, cv2.MORPH_CLOSE, kernel)\r\n",
        "    \r\n",
        "    return output"
      ],
      "outputs": [],
      "execution_count": 134,
      "metadata": {
        "jupyter": {
          "source_hidden": false,
          "outputs_hidden": false
        },
        "nteract": {
          "transient": {
            "deleting": false
          }
        },
        "gather": {
          "logged": 1676388502001
        }
      }
    },
    {
      "cell_type": "code",
      "source": [
        "paths = glob(os.getcwd() + '/images/AnalyseLeafArea_SO/*.JPG')\r\n",
        "outpath = os.getcwd() + '/images/AnalyseLeafArea_output'\r\n",
        "arr = []\r\n",
        "\r\n",
        "for i, p in tqdm(enumerate(paths)):\r\n",
        "    fn = p.split('/')[-1]\r\n",
        "    img = cv2.imread(p)\r\n",
        "    mask = lab_threshold(img)\r\n",
        "    #save output\r\n",
        "    cv2.imwrite( outpath + '/mask_' + fn, mask)\r\n",
        "    h,w = mask.shape\r\n",
        "    tot_pixels = h*w\r\n",
        "    \r\n",
        "    n_pixels = np.count_nonzero(mask)\r\n",
        "    res = n_pixels / tot_pixels\r\n",
        "    arr.append([fn, n_pixels, tot_pixels, res])\r\n",
        "\r\n",
        "df = pd.DataFrame(np.array(arr), columns = ['Filename', 'Green pixels', 'Total pixels', 'Coverage'])\r\n",
        "df.to_csv('coverage_results.csv')\r\n"
      ],
      "outputs": [
        {
          "output_type": "error",
          "ename": "TypeError",
          "evalue": "'int' object is not subscriptable",
          "traceback": [
            "\u001b[0;31m---------------------------------------------------------------------------\u001b[0m",
            "\u001b[0;31mTypeError\u001b[0m                                 Traceback (most recent call last)",
            "Input \u001b[0;32mIn [139]\u001b[0m, in \u001b[0;36m<cell line: 5>\u001b[0;34m()\u001b[0m\n\u001b[1;32m      2\u001b[0m outpath \u001b[38;5;241m=\u001b[39m os\u001b[38;5;241m.\u001b[39mgetcwd() \u001b[38;5;241m+\u001b[39m \u001b[38;5;124m'\u001b[39m\u001b[38;5;124m/images/AnalyseLeafArea_output\u001b[39m\u001b[38;5;124m'\u001b[39m\n\u001b[1;32m      3\u001b[0m arr \u001b[38;5;241m=\u001b[39m []\n\u001b[0;32m----> 5\u001b[0m \u001b[38;5;28;01mfor\u001b[39;00m i, p \u001b[38;5;129;01min\u001b[39;00m \u001b[43mtqdm\u001b[49m\u001b[43m(\u001b[49m\u001b[38;5;28;43menumerate\u001b[39;49m\u001b[43m(\u001b[49m\u001b[43mpaths\u001b[49m\u001b[43m[\u001b[49m\u001b[43m:\u001b[49m\u001b[38;5;241;43m4\u001b[39;49m\u001b[43m]\u001b[49m\u001b[43m)\u001b[49m\u001b[43m,\u001b[49m\u001b[43m \u001b[49m\u001b[38;5;28;43mlen\u001b[39;49m\u001b[43m(\u001b[49m\u001b[43mpaths\u001b[49m\u001b[43m[\u001b[49m\u001b[43m:\u001b[49m\u001b[38;5;241;43m4\u001b[39;49m\u001b[43m]\u001b[49m\u001b[43m)\u001b[49m\u001b[43m)\u001b[49m:\n\u001b[1;32m      6\u001b[0m     fn \u001b[38;5;241m=\u001b[39m p\u001b[38;5;241m.\u001b[39msplit(\u001b[38;5;124m'\u001b[39m\u001b[38;5;124m/\u001b[39m\u001b[38;5;124m'\u001b[39m)[\u001b[38;5;241m-\u001b[39m\u001b[38;5;241m1\u001b[39m]\n\u001b[1;32m      7\u001b[0m     img \u001b[38;5;241m=\u001b[39m cv2\u001b[38;5;241m.\u001b[39mimread(p)\n",
            "File \u001b[0;32m/anaconda/envs/azureml_py38/lib/python3.8/site-packages/tqdm/std.py:1109\u001b[0m, in \u001b[0;36mtqdm.__init__\u001b[0;34m(self, iterable, desc, total, leave, file, ncols, mininterval, maxinterval, miniters, ascii, disable, unit, unit_scale, dynamic_ncols, smoothing, bar_format, initial, position, postfix, unit_divisor, write_bytes, lock_args, nrows, colour, delay, gui, **kwargs)\u001b[0m\n\u001b[1;32m   1107\u001b[0m     \u001b[38;5;28mself\u001b[39m\u001b[38;5;241m.\u001b[39msp \u001b[38;5;241m=\u001b[39m \u001b[38;5;28mself\u001b[39m\u001b[38;5;241m.\u001b[39mstatus_printer(\u001b[38;5;28mself\u001b[39m\u001b[38;5;241m.\u001b[39mfp)\n\u001b[1;32m   1108\u001b[0m     \u001b[38;5;28;01mif\u001b[39;00m delay \u001b[38;5;241m<\u001b[39m\u001b[38;5;241m=\u001b[39m \u001b[38;5;241m0\u001b[39m:\n\u001b[0;32m-> 1109\u001b[0m         \u001b[38;5;28;43mself\u001b[39;49m\u001b[38;5;241;43m.\u001b[39;49m\u001b[43mrefresh\u001b[49m\u001b[43m(\u001b[49m\u001b[43mlock_args\u001b[49m\u001b[38;5;241;43m=\u001b[39;49m\u001b[38;5;28;43mself\u001b[39;49m\u001b[38;5;241;43m.\u001b[39;49m\u001b[43mlock_args\u001b[49m\u001b[43m)\u001b[49m\n\u001b[1;32m   1111\u001b[0m \u001b[38;5;66;03m# Init the time counter\u001b[39;00m\n\u001b[1;32m   1112\u001b[0m \u001b[38;5;28mself\u001b[39m\u001b[38;5;241m.\u001b[39mlast_print_t \u001b[38;5;241m=\u001b[39m \u001b[38;5;28mself\u001b[39m\u001b[38;5;241m.\u001b[39m_time()\n",
            "File \u001b[0;32m/anaconda/envs/azureml_py38/lib/python3.8/site-packages/tqdm/std.py:1361\u001b[0m, in \u001b[0;36mtqdm.refresh\u001b[0;34m(self, nolock, lock_args)\u001b[0m\n\u001b[1;32m   1359\u001b[0m     \u001b[38;5;28;01melse\u001b[39;00m:\n\u001b[1;32m   1360\u001b[0m         \u001b[38;5;28mself\u001b[39m\u001b[38;5;241m.\u001b[39m_lock\u001b[38;5;241m.\u001b[39macquire()\n\u001b[0;32m-> 1361\u001b[0m \u001b[38;5;28;43mself\u001b[39;49m\u001b[38;5;241;43m.\u001b[39;49m\u001b[43mdisplay\u001b[49m\u001b[43m(\u001b[49m\u001b[43m)\u001b[49m\n\u001b[1;32m   1362\u001b[0m \u001b[38;5;28;01mif\u001b[39;00m \u001b[38;5;129;01mnot\u001b[39;00m nolock:\n\u001b[1;32m   1363\u001b[0m     \u001b[38;5;28mself\u001b[39m\u001b[38;5;241m.\u001b[39m_lock\u001b[38;5;241m.\u001b[39mrelease()\n",
            "File \u001b[0;32m/anaconda/envs/azureml_py38/lib/python3.8/site-packages/tqdm/std.py:1509\u001b[0m, in \u001b[0;36mtqdm.display\u001b[0;34m(self, msg, pos)\u001b[0m\n\u001b[1;32m   1507\u001b[0m \u001b[38;5;28;01mif\u001b[39;00m pos:\n\u001b[1;32m   1508\u001b[0m     \u001b[38;5;28mself\u001b[39m\u001b[38;5;241m.\u001b[39mmoveto(pos)\n\u001b[0;32m-> 1509\u001b[0m \u001b[38;5;28mself\u001b[39m\u001b[38;5;241m.\u001b[39msp(\u001b[38;5;28;43mself\u001b[39;49m\u001b[38;5;241;43m.\u001b[39;49m\u001b[38;5;21;43m__str__\u001b[39;49m\u001b[43m(\u001b[49m\u001b[43m)\u001b[49m \u001b[38;5;28;01mif\u001b[39;00m msg \u001b[38;5;129;01mis\u001b[39;00m \u001b[38;5;28;01mNone\u001b[39;00m \u001b[38;5;28;01melse\u001b[39;00m msg)\n\u001b[1;32m   1510\u001b[0m \u001b[38;5;28;01mif\u001b[39;00m pos:\n\u001b[1;32m   1511\u001b[0m     \u001b[38;5;28mself\u001b[39m\u001b[38;5;241m.\u001b[39mmoveto(\u001b[38;5;241m-\u001b[39mpos)\n",
            "File \u001b[0;32m/anaconda/envs/azureml_py38/lib/python3.8/site-packages/tqdm/std.py:1165\u001b[0m, in \u001b[0;36mtqdm.__str__\u001b[0;34m(self)\u001b[0m\n\u001b[1;32m   1164\u001b[0m \u001b[38;5;28;01mdef\u001b[39;00m \u001b[38;5;21m__str__\u001b[39m(\u001b[38;5;28mself\u001b[39m):\n\u001b[0;32m-> 1165\u001b[0m     \u001b[38;5;28;01mreturn\u001b[39;00m \u001b[38;5;28;43mself\u001b[39;49m\u001b[38;5;241;43m.\u001b[39;49m\u001b[43mformat_meter\u001b[49m\u001b[43m(\u001b[49m\u001b[38;5;241;43m*\u001b[39;49m\u001b[38;5;241;43m*\u001b[39;49m\u001b[38;5;28;43mself\u001b[39;49m\u001b[38;5;241;43m.\u001b[39;49m\u001b[43mformat_dict\u001b[49m\u001b[43m)\u001b[49m\n",
            "File \u001b[0;32m/anaconda/envs/azureml_py38/lib/python3.8/site-packages/tqdm/std.py:475\u001b[0m, in \u001b[0;36mtqdm.format_meter\u001b[0;34m(n, total, elapsed, ncols, prefix, ascii, unit, unit_scale, rate, bar_format, postfix, unit_divisor, initial, colour, **extra_kwargs)\u001b[0m\n\u001b[1;32m    472\u001b[0m \u001b[38;5;66;03m# format the stats displayed to the left and right sides of the bar\u001b[39;00m\n\u001b[1;32m    473\u001b[0m \u001b[38;5;28;01mif\u001b[39;00m prefix:\n\u001b[1;32m    474\u001b[0m     \u001b[38;5;66;03m# old prefix setup work around\u001b[39;00m\n\u001b[0;32m--> 475\u001b[0m     bool_prefix_colon_already \u001b[38;5;241m=\u001b[39m (\u001b[43mprefix\u001b[49m\u001b[43m[\u001b[49m\u001b[38;5;241;43m-\u001b[39;49m\u001b[38;5;241;43m2\u001b[39;49m\u001b[43m:\u001b[49m\u001b[43m]\u001b[49m \u001b[38;5;241m==\u001b[39m \u001b[38;5;124m\"\u001b[39m\u001b[38;5;124m: \u001b[39m\u001b[38;5;124m\"\u001b[39m)\n\u001b[1;32m    476\u001b[0m     l_bar \u001b[38;5;241m=\u001b[39m prefix \u001b[38;5;28;01mif\u001b[39;00m bool_prefix_colon_already \u001b[38;5;28;01melse\u001b[39;00m prefix \u001b[38;5;241m+\u001b[39m \u001b[38;5;124m\"\u001b[39m\u001b[38;5;124m: \u001b[39m\u001b[38;5;124m\"\u001b[39m\n\u001b[1;32m    477\u001b[0m \u001b[38;5;28;01melse\u001b[39;00m:\n",
            "\u001b[0;31mTypeError\u001b[0m: 'int' object is not subscriptable"
          ]
        }
      ],
      "execution_count": 139,
      "metadata": {
        "jupyter": {
          "source_hidden": false,
          "outputs_hidden": false
        },
        "nteract": {
          "transient": {
            "deleting": false
          }
        },
        "gather": {
          "logged": 1676388679622
        }
      }
    },
    {
      "cell_type": "code",
      "source": [
        "df"
      ],
      "outputs": [
        {
          "output_type": "execute_result",
          "execution_count": 137,
          "data": {
            "text/plain": "                                       Filename Green pixels Total pixels  \\\n0           145b_A_SO_IMG_4717_220831_WB_A2.JPG      1523688      4610560   \n1  145b_A_SO_IMG_4717_220831_WB_A2_Feuilles.JPG      1455962      4610560   \n2     145b_A_SO_IMG_4717_220831_WB_A2_Tiges.JPG        68236      4610560   \n3           145b_B_SO_IMG_4718_220831_WB_A2.JPG      1163718      4628480   \n\n               Coverage  \n0    0.3304778595224875  \n1   0.31578853761799003  \n2  0.014799937534702943  \n3   0.25142552198561946  ",
            "text/html": "<div>\n<style scoped>\n    .dataframe tbody tr th:only-of-type {\n        vertical-align: middle;\n    }\n\n    .dataframe tbody tr th {\n        vertical-align: top;\n    }\n\n    .dataframe thead th {\n        text-align: right;\n    }\n</style>\n<table border=\"1\" class=\"dataframe\">\n  <thead>\n    <tr style=\"text-align: right;\">\n      <th></th>\n      <th>Filename</th>\n      <th>Green pixels</th>\n      <th>Total pixels</th>\n      <th>Coverage</th>\n    </tr>\n  </thead>\n  <tbody>\n    <tr>\n      <th>0</th>\n      <td>145b_A_SO_IMG_4717_220831_WB_A2.JPG</td>\n      <td>1523688</td>\n      <td>4610560</td>\n      <td>0.3304778595224875</td>\n    </tr>\n    <tr>\n      <th>1</th>\n      <td>145b_A_SO_IMG_4717_220831_WB_A2_Feuilles.JPG</td>\n      <td>1455962</td>\n      <td>4610560</td>\n      <td>0.31578853761799003</td>\n    </tr>\n    <tr>\n      <th>2</th>\n      <td>145b_A_SO_IMG_4717_220831_WB_A2_Tiges.JPG</td>\n      <td>68236</td>\n      <td>4610560</td>\n      <td>0.014799937534702943</td>\n    </tr>\n    <tr>\n      <th>3</th>\n      <td>145b_B_SO_IMG_4718_220831_WB_A2.JPG</td>\n      <td>1163718</td>\n      <td>4628480</td>\n      <td>0.25142552198561946</td>\n    </tr>\n  </tbody>\n</table>\n</div>"
          },
          "metadata": {}
        }
      ],
      "execution_count": 137,
      "metadata": {
        "jupyter": {
          "source_hidden": false,
          "outputs_hidden": false
        },
        "nteract": {
          "transient": {
            "deleting": false
          }
        },
        "gather": {
          "logged": 1676388607984
        }
      }
    },
    {
      "cell_type": "code",
      "source": [],
      "outputs": [],
      "execution_count": null,
      "metadata": {
        "jupyter": {
          "source_hidden": false,
          "outputs_hidden": false
        },
        "nteract": {
          "transient": {
            "deleting": false
          }
        }
      }
    }
  ],
  "metadata": {
    "kernelspec": {
      "name": "python38-azureml",
      "language": "python",
      "display_name": "Python 3.8 - AzureML"
    },
    "language_info": {
      "name": "python",
      "version": "3.8.5",
      "mimetype": "text/x-python",
      "codemirror_mode": {
        "name": "ipython",
        "version": 3
      },
      "pygments_lexer": "ipython3",
      "nbconvert_exporter": "python",
      "file_extension": ".py"
    },
    "kernel_info": {
      "name": "python38-azureml"
    },
    "microsoft": {
      "host": {
        "AzureML": {
          "notebookHasBeenCompleted": true
        }
      }
    },
    "nteract": {
      "version": "nteract-front-end@1.0.0"
    }
  },
  "nbformat": 4,
  "nbformat_minor": 2
}