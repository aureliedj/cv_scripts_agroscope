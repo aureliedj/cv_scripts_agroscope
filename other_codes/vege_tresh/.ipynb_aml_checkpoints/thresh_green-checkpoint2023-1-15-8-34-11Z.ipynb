{
  "cells": [
    {
      "cell_type": "code",
      "source": [
        "from glob import glob\r\n",
        "import plantcv as pcv\r\n",
        "import cv2\r\n",
        "import pandas as pd\r\n",
        "import numpy as np\r\n",
        "import os\r\n",
        "import matplotlib.pyplot as plt\r\n",
        "from tqdm import tqdm"
      ],
      "outputs": [],
      "execution_count": 8,
      "metadata": {
        "gather": {
          "logged": 1676449660834
        }
      }
    },
    {
      "cell_type": "code",
      "source": [
        "def lab_threshold(img, l_factor = 0.36, b_factor = 0.61, k1 = 7, k2 = 7, closing = False):\r\n",
        "    \r\n",
        "    lab_img = cv2.cvtColor(img, cv2.COLOR_BGR2LAB)\r\n",
        "    l, a, b = lab_img[:,:,0]/255,lab_img[:,:,1]/255, lab_img[:,:,2]/255\r\n",
        "\r\n",
        "    mask = np.zeros(l.shape)\r\n",
        "    cond = np.logical_or(l < l_factor, b > b_factor)\r\n",
        "    mask[cond] = 255\r\n",
        "\r\n",
        "    # remove noise in the background\r\n",
        "    kernel = np.ones((k1,k1), np.uint8)\r\n",
        "    output = cv2.morphologyEx(mask, cv2.MORPH_OPEN, kernel)\r\n",
        "\r\n",
        "    # close retrieved shapes\r\n",
        "    if closing:\r\n",
        "        kernel = np.ones((k2,k2),np.uint8)\r\n",
        "        output = cv2.morphologyEx(output, cv2.MORPH_CLOSE, kernel)\r\n",
        "    \r\n",
        "    return output"
      ],
      "outputs": [],
      "execution_count": 9,
      "metadata": {
        "jupyter": {
          "source_hidden": false,
          "outputs_hidden": false
        },
        "nteract": {
          "transient": {
            "deleting": false
          }
        },
        "gather": {
          "logged": 1676449661581
        }
      }
    },
    {
      "cell_type": "code",
      "source": [
        "paths = glob(os.getcwd() + '/images/AnalyseLeafArea_PO/*s.JPG')\r\n",
        "outpath = os.getcwd() + '/images/AnalyseLeafArea_PO_output'\r\n",
        "arr = []\r\n",
        "\r\n",
        "for p in tqdm(paths):\r\n",
        "    fn = p.split('/')[-1]\r\n",
        "    img = cv2.imread(p)\r\n",
        "\r\n",
        "    if np.logical_or('Tiges' in p, 'Vrilles' in p):\r\n",
        "        mask = lab_threshold(img)\r\n",
        "    else:\r\n",
        "        mask = lab_threshold(img, k1 = 5, closing = True)\r\n",
        "\r\n",
        "    #save output\r\n",
        "    cv2.imwrite( outpath + '/mask_' + fn, mask)\r\n",
        "    h, w = mask.shape\r\n",
        "    tot_pixels = h*w\r\n",
        "    \r\n",
        "    n_pixels = np.count_nonzero(mask)\r\n",
        "    res = n_pixels / tot_pixels\r\n",
        "    arr.append([fn, n_pixels, tot_pixels, res])\r\n",
        "\r\n",
        "df = pd.DataFrame(np.array(arr), columns = ['Filename', 'Green pixels', 'Total pixels', 'Coverage'])\r\n",
        "df.to_csv('coverage_results.csv', index = False)\r\n",
        "\r\n"
      ],
      "outputs": [
        {
          "output_type": "stream",
          "name": "stderr",
          "text": "100%|██████████| 650/650 [04:31<00:00,  2.39it/s]\n"
        }
      ],
      "execution_count": 10,
      "metadata": {
        "jupyter": {
          "source_hidden": false,
          "outputs_hidden": false
        },
        "nteract": {
          "transient": {
            "deleting": false
          }
        },
        "gather": {
          "logged": 1676449935686
        }
      }
    },
    {
      "cell_type": "code",
      "source": [],
      "outputs": [],
      "execution_count": null,
      "metadata": {
        "jupyter": {
          "source_hidden": false,
          "outputs_hidden": false
        },
        "nteract": {
          "transient": {
            "deleting": false
          }
        }
      }
    }
  ],
  "metadata": {
    "kernelspec": {
      "name": "python38-azureml",
      "language": "python",
      "display_name": "Python 3.8 - AzureML"
    },
    "language_info": {
      "name": "python",
      "version": "3.8.5",
      "mimetype": "text/x-python",
      "codemirror_mode": {
        "name": "ipython",
        "version": 3
      },
      "pygments_lexer": "ipython3",
      "nbconvert_exporter": "python",
      "file_extension": ".py"
    },
    "kernel_info": {
      "name": "python38-azureml"
    },
    "microsoft": {
      "host": {
        "AzureML": {
          "notebookHasBeenCompleted": true
        }
      }
    },
    "nteract": {
      "version": "nteract-front-end@1.0.0"
    }
  },
  "nbformat": 4,
  "nbformat_minor": 2
}