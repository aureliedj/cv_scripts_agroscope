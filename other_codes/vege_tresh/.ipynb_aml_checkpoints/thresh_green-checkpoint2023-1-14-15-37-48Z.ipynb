{
  "cells": [
    {
      "cell_type": "code",
      "source": [
        "from glob import glob\r\n",
        "import plantcv as pcv\r\n",
        "import cv2\r\n",
        "import pandas as pd\r\n",
        "import numpy as np\r\n",
        "import os\r\n",
        "import matplotlib.pyplot as plt\r\n",
        "from tqdm import tqdm"
      ],
      "outputs": [],
      "execution_count": 132,
      "metadata": {
        "gather": {
          "logged": 1676388400529
        }
      }
    },
    {
      "cell_type": "code",
      "source": [
        "def lab_threshold(img, l_factor = 0.36, b_factor = 0.61, k1 = 7, k2 = 7, closing = True):\r\n",
        "    \r\n",
        "    lab_img = cv2.cvtColor(img, cv2.COLOR_BGR2LAB)\r\n",
        "    l, a, b = lab_img[:,:,0]/255,lab_img[:,:,1]/255, lab_img[:,:,2]/255\r\n",
        "\r\n",
        "    mask = np.zeros(l.shape)\r\n",
        "    cond = np.logical_or(l < l_factor, b > b_factor)\r\n",
        "    mask[cond] = 255\r\n",
        "\r\n",
        "    # remove noise in the background\r\n",
        "    kernel = np.ones((k1,k1), np.uint8)\r\n",
        "    output = cv2.morphologyEx(mask, cv2.MORPH_OPEN, kernel)\r\n",
        "\r\n",
        "    # close retrieved shapes\r\n",
        "    if closing:\r\n",
        "        kernel = np.ones((k2,k2),np.uint8)\r\n",
        "        output = cv2.morphologyEx(output, cv2.MORPH_CLOSE, kernel)\r\n",
        "    \r\n",
        "    return output"
      ],
      "outputs": [],
      "execution_count": 134,
      "metadata": {
        "jupyter": {
          "source_hidden": false,
          "outputs_hidden": false
        },
        "nteract": {
          "transient": {
            "deleting": false
          }
        },
        "gather": {
          "logged": 1676388502001
        }
      }
    },
    {
      "cell_type": "code",
      "source": [
        "paths = glob(os.getcwd() + '/images/AnalyseLeafArea_SO/*.JPG')\r\n",
        "outpath = os.getcwd() + '/images/AnalyseLeafArea_output'\r\n",
        "arr = []\r\n",
        "\r\n",
        "for p in tqdm(paths):\r\n",
        "    fn = p.split('/')[-1]\r\n",
        "    img = cv2.imread(p)\r\n",
        "    mask = lab_threshold(img)\r\n",
        "\r\n",
        "    #save output\r\n",
        "    cv2.imwrite( outpath + '/mask_' + fn, mask)\r\n",
        "    h, w = mask.shape\r\n",
        "    tot_pixels = h*w\r\n",
        "    \r\n",
        "    n_pixels = np.count_nonzero(mask)\r\n",
        "    res = n_pixels / tot_pixels\r\n",
        "    arr.append([fn, n_pixels, tot_pixels, res])\r\n",
        "\r\n",
        "df = pd.DataFrame(np.array(arr), columns = ['Filename', 'Green pixels', 'Total pixels', 'Coverage'])\r\n",
        "df.to_csv('coverage_results.csv')\r\n"
      ],
      "outputs": [
        {
          "output_type": "stream",
          "name": "stderr",
          "text": "\n  0%|          | 0/2736 [00:00<?, ?it/s]\u001b[A\n  0%|          | 1/2736 [00:00<20:05,  2.27it/s]\u001b[A\n  0%|          | 2/2736 [00:00<18:57,  2.40it/s]\u001b[A\n  0%|          | 3/2736 [00:01<18:45,  2.43it/s]\u001b[A\n  0%|          | 4/2736 [00:01<19:43,  2.31it/s]\u001b[A\n  0%|          | 5/2736 [00:02<26:02,  1.75it/s]\u001b[A\n  0%|          | 6/2736 [00:02<23:26,  1.94it/s]\u001b[A\n  0%|          | 7/2736 [00:03<22:17,  2.04it/s]\u001b[A\n  0%|          | 8/2736 [00:03<20:41,  2.20it/s]\u001b[A\n  0%|          | 9/2736 [00:04<19:32,  2.33it/s]\u001b[A\n  0%|          | 10/2736 [00:04<18:30,  2.46it/s]\u001b[A\n  0%|          | 11/2736 [00:04<18:29,  2.46it/s]\u001b[A\n  0%|          | 12/2736 [00:05<18:45,  2.42it/s]\u001b[A\n  0%|          | 13/2736 [00:05<19:37,  2.31it/s]\u001b[A\n  1%|          | 14/2736 [00:06<18:49,  2.41it/s]\u001b[A\n  1%|          | 15/2736 [00:07<35:39,  1.27it/s]\u001b[A\n  1%|          | 16/2736 [00:09<46:50,  1.03s/it]\u001b[A\n  1%|          | 17/2736 [00:10<54:02,  1.19s/it]\u001b[A\n  1%|          | 18/2736 [00:11<45:43,  1.01s/it]\u001b[A\n  1%|          | 19/2736 [00:12<38:36,  1.17it/s]\u001b[A\n  1%|          | 20/2736 [00:12<39:36,  1.14it/s]\u001b[A\n  1%|          | 21/2736 [00:14<41:35,  1.09it/s]\u001b[A\n  1%|          | 22/2736 [00:14<41:50,  1.08it/s]\u001b[A\n  1%|          | 23/2736 [00:15<40:11,  1.12it/s]\u001b[A\n  1%|          | 24/2736 [00:16<33:39,  1.34it/s]\u001b[A\n  1%|          | 25/2736 [00:16<34:12,  1.32it/s]\u001b[A\n  1%|          | 26/2736 [00:17<31:51,  1.42it/s]\u001b[A\n  1%|          | 27/2736 [00:18<28:56,  1.56it/s]\u001b[A\n  1%|          | 28/2736 [00:19<34:05,  1.32it/s]\u001b[A\n  1%|          | 29/2736 [00:19<32:15,  1.40it/s]\u001b[A\n  1%|          | 30/2736 [00:20<29:20,  1.54it/s]\u001b[A\n  1%|          | 31/2736 [00:20<31:12,  1.44it/s]\u001b[A\n  1%|          | 32/2736 [00:21<29:06,  1.55it/s]\u001b[A\n  1%|          | 33/2736 [00:22<29:44,  1.52it/s]\u001b[A\n  1%|          | 34/2736 [00:22<30:39,  1.47it/s]\u001b[A\n  1%|▏         | 35/2736 [00:24<45:25,  1.01s/it]\u001b[A\n  1%|▏         | 36/2736 [00:26<53:27,  1.19s/it]\u001b[A\n  1%|▏         | 37/2736 [00:27<57:38,  1.28s/it]\u001b[A\n  1%|▏         | 38/2736 [00:29<1:00:10,  1.34s/it]\u001b[A\n  1%|▏         | 39/2736 [00:30<1:04:30,  1.43s/it]\u001b[A\n  1%|▏         | 40/2736 [00:32<1:08:09,  1.52s/it]\u001b[A\n  1%|▏         | 41/2736 [00:34<1:08:06,  1.52s/it]\u001b[A\n  2%|▏         | 42/2736 [00:35<1:07:21,  1.50s/it]\u001b[A\n  2%|▏         | 43/2736 [00:37<1:07:07,  1.50s/it]\u001b[A\n  2%|▏         | 44/2736 [00:38<1:09:21,  1.55s/it]\u001b[A\n  2%|▏         | 45/2736 [00:40<1:10:06,  1.56s/it]\u001b[A\n  2%|▏         | 46/2736 [00:41<1:08:33,  1.53s/it]\u001b[A\n  2%|▏         | 47/2736 [00:43<1:07:49,  1.51s/it]\u001b[A\n  2%|▏         | 48/2736 [00:44<1:09:24,  1.55s/it]\u001b[A\n  2%|▏         | 49/2736 [00:46<1:10:22,  1.57s/it]\u001b[A\n  2%|▏         | 50/2736 [00:48<1:09:18,  1.55s/it]\u001b[A\n  2%|▏         | 51/2736 [00:48<54:13,  1.21s/it]  \u001b[A\n  2%|▏         | 52/2736 [00:48<42:06,  1.06it/s]\u001b[A\n"
        },
        {
          "output_type": "error",
          "ename": "KeyboardInterrupt",
          "evalue": "",
          "traceback": [
            "\u001b[0;31m---------------------------------------------------------------------------\u001b[0m",
            "\u001b[0;31mKeyboardInterrupt\u001b[0m                         Traceback (most recent call last)",
            "Input \u001b[0;32mIn [143]\u001b[0m, in \u001b[0;36m<cell line: 4>\u001b[0;34m()\u001b[0m\n\u001b[1;32m      4\u001b[0m \u001b[38;5;28;01mfor\u001b[39;00m p \u001b[38;5;129;01min\u001b[39;00m tqdm(paths):\n\u001b[1;32m      5\u001b[0m     fn \u001b[38;5;241m=\u001b[39m p\u001b[38;5;241m.\u001b[39msplit(\u001b[38;5;124m'\u001b[39m\u001b[38;5;124m/\u001b[39m\u001b[38;5;124m'\u001b[39m)[\u001b[38;5;241m-\u001b[39m\u001b[38;5;241m1\u001b[39m]\n\u001b[0;32m----> 6\u001b[0m     img \u001b[38;5;241m=\u001b[39m \u001b[43mcv2\u001b[49m\u001b[38;5;241;43m.\u001b[39;49m\u001b[43mimread\u001b[49m\u001b[43m(\u001b[49m\u001b[43mp\u001b[49m\u001b[43m)\u001b[49m\n\u001b[1;32m      7\u001b[0m     mask \u001b[38;5;241m=\u001b[39m lab_threshold(img)\n\u001b[1;32m      9\u001b[0m     \u001b[38;5;66;03m#save output\u001b[39;00m\n",
            "\u001b[0;31mKeyboardInterrupt\u001b[0m: "
          ]
        }
      ],
      "execution_count": 143,
      "metadata": {
        "jupyter": {
          "source_hidden": false,
          "outputs_hidden": false
        },
        "nteract": {
          "transient": {
            "deleting": false
          }
        },
        "gather": {
          "logged": 1676388949804
        }
      }
    }
  ],
  "metadata": {
    "kernelspec": {
      "name": "python38-azureml",
      "language": "python",
      "display_name": "Python 3.8 - AzureML"
    },
    "language_info": {
      "name": "python",
      "version": "3.8.5",
      "mimetype": "text/x-python",
      "codemirror_mode": {
        "name": "ipython",
        "version": 3
      },
      "pygments_lexer": "ipython3",
      "nbconvert_exporter": "python",
      "file_extension": ".py"
    },
    "kernel_info": {
      "name": "python38-azureml"
    },
    "microsoft": {
      "host": {
        "AzureML": {
          "notebookHasBeenCompleted": true
        }
      }
    },
    "nteract": {
      "version": "nteract-front-end@1.0.0"
    }
  },
  "nbformat": 4,
  "nbformat_minor": 2
}