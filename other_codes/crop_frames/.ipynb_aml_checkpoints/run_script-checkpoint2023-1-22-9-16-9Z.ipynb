{
  "cells": [
    {
      "cell_type": "code",
      "source": [
        "import os\r\n",
        "from crop_frame import DebugArgs, crop\r\n",
        "from glob import glob"
      ],
      "outputs": [
        {
          "output_type": "stream",
          "name": "stderr",
          "text": "<frozen importlib._bootstrap>:219: RuntimeWarning: scipy._lib.messagestream.MessageStream size changed, may indicate binary incompatibility. Expected 56 from C header, got 64 from PyObject\n"
        }
      ],
      "execution_count": 1,
      "metadata": {
        "gather": {
          "logged": 1677057322248
        }
      }
    },
    {
      "cell_type": "code",
      "source": [
        "input_dir = os.getcwd() + '/../../../data/photos_zenitales/2022.09.08'\n",
        "# create output directory\n",
        "if input_dir + '_crop' not in glob(input_dir +'_crop'):\n",
        "    output_dir = os.makedirs(input_dir + '_crop')\n",
        "else:\n",
        "    output_dir = input_dir + '_crop'\n"
      ],
      "outputs": [],
      "execution_count": 2,
      "metadata": {
        "gather": {
          "logged": 1677057322392
        }
      }
    },
    {
      "cell_type": "code",
      "source": [
        "args = DebugArgs(input_dir, output_dir, '.JPG')\n",
        "crop(args)"
      ],
      "outputs": [
        {
          "output_type": "stream",
          "name": "stdout",
          "text": "\n\n\n"
        },
        {
          "output_type": "display_data",
          "data": {
            "text/plain": "<Figure size 432x288 with 1 Axes>",
            "image/png": "[encoded data removed]"
          },
          "metadata": {
            "needs_background": "light"
          }
        },
        {
          "output_type": "error",
          "ename": "AttributeError",
          "evalue": "'NoneType' object has no attribute 'reshape'",
          "traceback": [
            "\u001b[0;31m---------------------------------------------------------------------------\u001b[0m",
            "\u001b[0;31mAttributeError\u001b[0m                            Traceback (most recent call last)",
            "Input \u001b[0;32mIn [3]\u001b[0m, in \u001b[0;36m<cell line: 2>\u001b[0;34m()\u001b[0m\n\u001b[1;32m      1\u001b[0m args \u001b[38;5;241m=\u001b[39m DebugArgs(input_dir, output_dir, \u001b[38;5;124m'\u001b[39m\u001b[38;5;124m.JPG\u001b[39m\u001b[38;5;124m'\u001b[39m)\n\u001b[0;32m----> 2\u001b[0m \u001b[43mcrop\u001b[49m\u001b[43m(\u001b[49m\u001b[43margs\u001b[49m\u001b[43m)\u001b[49m\n",
            "File \u001b[0;32m/mnt/batch/tasks/shared/LS_root/mounts/clusters/compute-gpu-changins/code/Users/aurelie.dejong.agroscope/Agroscope_codes/other_codes/crop_frames/crop_frame.py:93\u001b[0m, in \u001b[0;36mcrop\u001b[0;34m(args)\u001b[0m\n\u001b[1;32m     87\u001b[0m hsvImg \u001b[38;5;241m=\u001b[39m cv2\u001b[38;5;241m.\u001b[39mcvtColor(img, cv2\u001b[38;5;241m.\u001b[39mCOLOR_BGR2HSV)\n\u001b[1;32m     90\u001b[0m mask1 \u001b[38;5;241m=\u001b[39m  getRedFrame(hsvImg, plot \u001b[38;5;241m=\u001b[39m \u001b[38;5;28;01mTrue\u001b[39;00m)\n\u001b[0;32m---> 93\u001b[0m line_list \u001b[38;5;241m=\u001b[39m \u001b[43mgetLines\u001b[49m\u001b[43m(\u001b[49m\u001b[43mmask1\u001b[49m\u001b[43m,\u001b[49m\u001b[43m \u001b[49m\u001b[43mn_clust\u001b[49m\u001b[43m)\u001b[49m\n\u001b[1;32m     95\u001b[0m \u001b[38;5;66;03m#Check\u001b[39;00m\n\u001b[1;32m     96\u001b[0m \u001b[38;5;28;01mif\u001b[39;00m \u001b[38;5;28mlen\u001b[39m(line_list)\u001b[38;5;241m!=\u001b[39m n_clust:\n",
            "File \u001b[0;32m/mnt/batch/tasks/shared/LS_root/mounts/clusters/compute-gpu-changins/code/Users/aurelie.dejong.agroscope/Agroscope_codes/other_codes/crop_frames/crop_frame.py:51\u001b[0m, in \u001b[0;36mcrop.<locals>.getLines\u001b[0;34m(mask1, n, p1, p2)\u001b[0m\n\u001b[1;32m     47\u001b[0m \u001b[38;5;28;01mdef\u001b[39;00m \u001b[38;5;21mgetLines\u001b[39m(mask1, n, p1 \u001b[38;5;241m=\u001b[39m \u001b[38;5;241m1200\u001b[39m, p2 \u001b[38;5;241m=\u001b[39m \u001b[38;5;241m800\u001b[39m): \u001b[38;5;66;03m#1500, 800\u001b[39;00m\n\u001b[1;32m     48\u001b[0m \n\u001b[1;32m     49\u001b[0m             \u001b[38;5;66;03m#### Get lines\u001b[39;00m\n\u001b[1;32m     50\u001b[0m             lines \u001b[38;5;241m=\u001b[39m cv2\u001b[38;5;241m.\u001b[39mHoughLinesP(mask1\u001b[38;5;241m.\u001b[39mastype(\u001b[38;5;124m'\u001b[39m\u001b[38;5;124muint8\u001b[39m\u001b[38;5;124m'\u001b[39m), \u001b[38;5;241m1\u001b[39m, np\u001b[38;5;241m.\u001b[39mpi\u001b[38;5;241m/\u001b[39m\u001b[38;5;241m180\u001b[39m, p1, minLineLength \u001b[38;5;241m=\u001b[39m p2, maxLineGap\u001b[38;5;241m=\u001b[39m\u001b[38;5;241m800\u001b[39m) \u001b[38;5;66;03m#1, pi/180, 2500, 1200, 800\u001b[39;00m\n\u001b[0;32m---> 51\u001b[0m             out \u001b[38;5;241m=\u001b[39m \u001b[43mlines\u001b[49m\u001b[38;5;241;43m.\u001b[39;49m\u001b[43mreshape\u001b[49m((lines\u001b[38;5;241m.\u001b[39mshape[\u001b[38;5;241m0\u001b[39m],\u001b[38;5;241m4\u001b[39m))\n\u001b[1;32m     53\u001b[0m             \u001b[38;5;66;03m#### Cluster the lines in 4 groups\u001b[39;00m\n\u001b[1;32m     54\u001b[0m             kmeans \u001b[38;5;241m=\u001b[39m KMeans(n_clusters \u001b[38;5;241m=\u001b[39m n)\n",
            "\u001b[0;31mAttributeError\u001b[0m: 'NoneType' object has no attribute 'reshape'"
          ]
        }
      ],
      "execution_count": 3,
      "metadata": {
        "gather": {
          "logged": 1677057324417
        }
      }
    },
    {
      "cell_type": "code",
      "source": [],
      "outputs": [],
      "execution_count": null,
      "metadata": {}
    }
  ],
  "metadata": {
    "kernelspec": {
      "name": "python3",
      "language": "python",
      "display_name": "Python 3 (ipykernel)"
    },
    "language_info": {
      "name": "python",
      "version": "3.8.5",
      "mimetype": "text/x-python",
      "codemirror_mode": {
        "name": "ipython",
        "version": 3
      },
      "pygments_lexer": "ipython3",
      "nbconvert_exporter": "python",
      "file_extension": ".py"
    },
    "orig_nbformat": 4,
    "vscode": {
      "interpreter": {
        "hash": "10a1eba0a72b74e0c4df1ca223901cbcb1c5318741455c15bea9eb99ba15a606"
      }
    },
    "microsoft": {
      "ms_spell_check": {
        "ms_spell_check_language": "en"
      },
      "host": {
        "AzureML": {
          "notebookHasBeenCompleted": true
        }
      }
    },
    "kernel_info": {
      "name": "python3"
    },
    "nteract": {
      "version": "nteract-front-end@1.0.0"
    }
  },
  "nbformat": 4,
  "nbformat_minor": 2
}