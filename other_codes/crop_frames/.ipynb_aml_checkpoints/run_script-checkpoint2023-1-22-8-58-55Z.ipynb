{
  "cells": [
    {
      "cell_type": "code",
      "source": [
        "import os\r\n",
        "from crop_frame import DebugArgs, crop\r\n",
        "from glob import glob"
      ],
      "outputs": [
        {
          "output_type": "error",
          "ename": "SyntaxError",
          "evalue": "invalid syntax (crop_frame.py, line 12)",
          "traceback": [
            "Traceback \u001b[0;36m(most recent call last)\u001b[0m:\n",
            "  File \u001b[1;32m/anaconda/envs/azureml_py38/lib/python3.8/site-packages/IPython/core/interactiveshell.py:3398\u001b[0m in \u001b[1;35mrun_code\u001b[0m\n    exec(code_obj, self.user_global_ns, self.user_ns)\n",
            "\u001b[0;36m  Input \u001b[0;32mIn [1]\u001b[0;36m in \u001b[0;35m<cell line: 2>\u001b[0;36m\u001b[0m\n\u001b[0;31m    from crop_frame import DebugArgs, crop\u001b[0m\n",
            "\u001b[0;36m  File \u001b[0;32m/mnt/batch/tasks/shared/LS_root/mounts/clusters/compute-gpu-changins/code/Users/aurelie.dejong.agroscope/Agroscope_codes/other_codes/crop_frames/crop_frame.py:12\u001b[0;36m\u001b[0m\n\u001b[0;31m    def __init__(self, indir, outdir, img_extension isbatch = True, saving = True, issquare = False):\u001b[0m\n\u001b[0m                                                    ^\u001b[0m\n\u001b[0;31mSyntaxError\u001b[0m\u001b[0;31m:\u001b[0m invalid syntax\n"
          ]
        }
      ],
      "execution_count": 1,
      "metadata": {
        "gather": {
          "logged": 1677056231663
        }
      }
    },
    {
      "cell_type": "code",
      "source": [
        "input_dir = os.getcwd() + '/../../../data/photos_zenitales/2022.09.08'\n",
        "# create output directory\n",
        "if input_dir + '_crop' not in glob(input_dir +'_crop'):\n",
        "    output_dir = os.makedirs(input_dir + '_crop')\n",
        "else:\n",
        "    output_dir = input_dir + '_crop'\n"
      ],
      "outputs": [],
      "execution_count": 2,
      "metadata": {
        "gather": {
          "logged": 1677056084254
        }
      }
    },
    {
      "cell_type": "code",
      "source": [
        "args = DebugArgs(input_dir, output_dir, '.JPG')\n",
        "crop(args)"
      ],
      "outputs": [
        {
          "output_type": "stream",
          "name": "stdout",
          "text": "\n\n\nNumber of errors 0\n[]\n"
        }
      ],
      "execution_count": 3,
      "metadata": {
        "gather": {
          "logged": 1677056095713
        }
      }
    },
    {
      "cell_type": "code",
      "source": [],
      "outputs": [],
      "execution_count": null,
      "metadata": {}
    }
  ],
  "metadata": {
    "kernelspec": {
      "name": "python3",
      "language": "python",
      "display_name": "Python 3 (ipykernel)"
    },
    "language_info": {
      "name": "python",
      "version": "3.8.5",
      "mimetype": "text/x-python",
      "codemirror_mode": {
        "name": "ipython",
        "version": 3
      },
      "pygments_lexer": "ipython3",
      "nbconvert_exporter": "python",
      "file_extension": ".py"
    },
    "orig_nbformat": 4,
    "vscode": {
      "interpreter": {
        "hash": "10a1eba0a72b74e0c4df1ca223901cbcb1c5318741455c15bea9eb99ba15a606"
      }
    },
    "microsoft": {
      "ms_spell_check": {
        "ms_spell_check_language": "en"
      },
      "host": {
        "AzureML": {
          "notebookHasBeenCompleted": true
        }
      }
    },
    "kernel_info": {
      "name": "python3"
    },
    "nteract": {
      "version": "nteract-front-end@1.0.0"
    }
  },
  "nbformat": 4,
  "nbformat_minor": 2
}