{
  "cells": [
    {
      "cell_type": "code",
      "source": [
        "import os\r\n",
        "from crop_frame import DebugArgs, crop\r\n",
        "from glob import glob"
      ],
      "outputs": [
        {
          "output_type": "stream",
          "name": "stderr",
          "text": "<frozen importlib._bootstrap>:219: RuntimeWarning: scipy._lib.messagestream.MessageStream size changed, may indicate binary incompatibility. Expected 56 from C header, got 64 from PyObject\n"
        }
      ],
      "execution_count": 1,
      "metadata": {
        "gather": {
          "logged": 1677056083686
        }
      }
    },
    {
      "cell_type": "code",
      "source": [
        "input_dir = os.getcwd() + '/../../../data/photos_zenitales/2022.09.08'\n",
        "# create output directory\n",
        "if input_dir + '_crop' not in glob(input_dir +'_crop'):\n",
        "    output_dir = os.makedirs(input_dir + '_crop')\n",
        "else:\n",
        "    output_dir = input_dir + '_crop'\n"
      ],
      "outputs": [],
      "execution_count": 2,
      "metadata": {
        "gather": {
          "logged": 1677056084254
        }
      }
    },
    {
      "cell_type": "code",
      "source": [
        "args = DebugArgs(input_dir, output_dir)\n",
        "crop(args)"
      ],
      "outputs": [
        {
          "output_type": "stream",
          "name": "stdout",
          "text": "\n\n\nNumber of errors 0\n[]\n"
        }
      ],
      "execution_count": 3,
      "metadata": {
        "gather": {
          "logged": 1677056095713
        }
      }
    },
    {
      "cell_type": "code",
      "source": [],
      "outputs": [],
      "execution_count": null,
      "metadata": {}
    }
  ],
  "metadata": {
    "kernelspec": {
      "name": "python3",
      "language": "python",
      "display_name": "Python 3 (ipykernel)"
    },
    "language_info": {
      "name": "python",
      "version": "3.8.5",
      "mimetype": "text/x-python",
      "codemirror_mode": {
        "name": "ipython",
        "version": 3
      },
      "pygments_lexer": "ipython3",
      "nbconvert_exporter": "python",
      "file_extension": ".py"
    },
    "orig_nbformat": 4,
    "vscode": {
      "interpreter": {
        "hash": "10a1eba0a72b74e0c4df1ca223901cbcb1c5318741455c15bea9eb99ba15a606"
      }
    },
    "microsoft": {
      "ms_spell_check": {
        "ms_spell_check_language": "en"
      },
      "host": {
        "AzureML": {
          "notebookHasBeenCompleted": true
        }
      }
    },
    "kernel_info": {
      "name": "python3"
    },
    "nteract": {
      "version": "nteract-front-end@1.0.0"
    }
  },
  "nbformat": 4,
  "nbformat_minor": 2
}