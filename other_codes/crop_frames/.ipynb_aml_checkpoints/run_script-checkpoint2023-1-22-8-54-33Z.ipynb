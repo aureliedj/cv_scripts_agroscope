{
  "cells": [
    {
      "cell_type": "code",
      "source": [
        "import os\r\n",
        "from crop_frame import DebugArgs, crop\r\n",
        "from glob import glob"
      ],
      "outputs": [],
      "execution_count": 5,
      "metadata": {
        "gather": {
          "logged": 1677055626260
        }
      }
    },
    {
      "cell_type": "code",
      "source": [
        "input_dir = os.getcwd() + '/../../../data/photos_zenitales/2022.09.08'\n",
        "# create output directory\n",
        "if input_dir + '_crop' not in glob(input_dir +'_crop'):\n",
        "    output_dir = os.makedirs(input_dir + '_crop')\n",
        "else:\n",
        "    output_dir = input_dir + '_crop'\n"
      ],
      "outputs": [
        {
          "output_type": "stream",
          "name": "stdout",
          "text": "['/mnt/batch/tasks/shared/LS_root/mounts/clusters/compute-gpu-changins/code/Users/aurelie.dejong.agroscope/Agroscope_codes/other_codes/crop_frames/../../../data/photos_zenitales/2022.09.08/IMG_0006.JPG', '/mnt/batch/tasks/shared/LS_root/mounts/clusters/compute-gpu-changins/code/Users/aurelie.dejong.agroscope/Agroscope_codes/other_codes/crop_frames/../../../data/photos_zenitales/2022.09.08/IMG_0010.JPG', '/mnt/batch/tasks/shared/LS_root/mounts/clusters/compute-gpu-changins/code/Users/aurelie.dejong.agroscope/Agroscope_codes/other_codes/crop_frames/../../../data/photos_zenitales/2022.09.08/IMG_0011.JPG', '/mnt/batch/tasks/shared/LS_root/mounts/clusters/compute-gpu-changins/code/Users/aurelie.dejong.agroscope/Agroscope_codes/other_codes/crop_frames/../../../data/photos_zenitales/2022.09.08/IMG_0016.JPG', '/mnt/batch/tasks/shared/LS_root/mounts/clusters/compute-gpu-changins/code/Users/aurelie.dejong.agroscope/Agroscope_codes/other_codes/crop_frames/../../../data/photos_zenitales/2022.09.08/IMG_0019.JPG', '/mnt/batch/tasks/shared/LS_root/mounts/clusters/compute-gpu-changins/code/Users/aurelie.dejong.agroscope/Agroscope_codes/other_codes/crop_frames/../../../data/photos_zenitales/2022.09.08/IMG_0022.JPG', '/mnt/batch/tasks/shared/LS_root/mounts/clusters/compute-gpu-changins/code/Users/aurelie.dejong.agroscope/Agroscope_codes/other_codes/crop_frames/../../../data/photos_zenitales/2022.09.08/IMG_0023.JPG', '/mnt/batch/tasks/shared/LS_root/mounts/clusters/compute-gpu-changins/code/Users/aurelie.dejong.agroscope/Agroscope_codes/other_codes/crop_frames/../../../data/photos_zenitales/2022.09.08/IMG_0024.JPG', '/mnt/batch/tasks/shared/LS_root/mounts/clusters/compute-gpu-changins/code/Users/aurelie.dejong.agroscope/Agroscope_codes/other_codes/crop_frames/../../../data/photos_zenitales/2022.09.08/IMG_0026.JPG', '/mnt/batch/tasks/shared/LS_root/mounts/clusters/compute-gpu-changins/code/Users/aurelie.dejong.agroscope/Agroscope_codes/other_codes/crop_frames/../../../data/photos_zenitales/2022.09.08/IMG_0027.JPG', '/mnt/batch/tasks/shared/LS_root/mounts/clusters/compute-gpu-changins/code/Users/aurelie.dejong.agroscope/Agroscope_codes/other_codes/crop_frames/../../../data/photos_zenitales/2022.09.08/IMG_0028.JPG', '/mnt/batch/tasks/shared/LS_root/mounts/clusters/compute-gpu-changins/code/Users/aurelie.dejong.agroscope/Agroscope_codes/other_codes/crop_frames/../../../data/photos_zenitales/2022.09.08/IMG_0029.JPG', '/mnt/batch/tasks/shared/LS_root/mounts/clusters/compute-gpu-changins/code/Users/aurelie.dejong.agroscope/Agroscope_codes/other_codes/crop_frames/../../../data/photos_zenitales/2022.09.08/IMG_0034.JPG', '/mnt/batch/tasks/shared/LS_root/mounts/clusters/compute-gpu-changins/code/Users/aurelie.dejong.agroscope/Agroscope_codes/other_codes/crop_frames/../../../data/photos_zenitales/2022.09.08/IMG_0036.JPG', '/mnt/batch/tasks/shared/LS_root/mounts/clusters/compute-gpu-changins/code/Users/aurelie.dejong.agroscope/Agroscope_codes/other_codes/crop_frames/../../../data/photos_zenitales/2022.09.08/IMG_0040.JPG', '/mnt/batch/tasks/shared/LS_root/mounts/clusters/compute-gpu-changins/code/Users/aurelie.dejong.agroscope/Agroscope_codes/other_codes/crop_frames/../../../data/photos_zenitales/2022.09.08/IMG_0041.JPG', '/mnt/batch/tasks/shared/LS_root/mounts/clusters/compute-gpu-changins/code/Users/aurelie.dejong.agroscope/Agroscope_codes/other_codes/crop_frames/../../../data/photos_zenitales/2022.09.08/IMG_0046.JPG', '/mnt/batch/tasks/shared/LS_root/mounts/clusters/compute-gpu-changins/code/Users/aurelie.dejong.agroscope/Agroscope_codes/other_codes/crop_frames/../../../data/photos_zenitales/2022.09.08/IMG_0049.JPG', '/mnt/batch/tasks/shared/LS_root/mounts/clusters/compute-gpu-changins/code/Users/aurelie.dejong.agroscope/Agroscope_codes/other_codes/crop_frames/../../../data/photos_zenitales/2022.09.08/IMG_0052.JPG', '/mnt/batch/tasks/shared/LS_root/mounts/clusters/compute-gpu-changins/code/Users/aurelie.dejong.agroscope/Agroscope_codes/other_codes/crop_frames/../../../data/photos_zenitales/2022.09.08/IMG_0053.JPG', '/mnt/batch/tasks/shared/LS_root/mounts/clusters/compute-gpu-changins/code/Users/aurelie.dejong.agroscope/Agroscope_codes/other_codes/crop_frames/../../../data/photos_zenitales/2022.09.08/IMG_0054.JPG', '/mnt/batch/tasks/shared/LS_root/mounts/clusters/compute-gpu-changins/code/Users/aurelie.dejong.agroscope/Agroscope_codes/other_codes/crop_frames/../../../data/photos_zenitales/2022.09.08/IMG_0056.JPG', '/mnt/batch/tasks/shared/LS_root/mounts/clusters/compute-gpu-changins/code/Users/aurelie.dejong.agroscope/Agroscope_codes/other_codes/crop_frames/../../../data/photos_zenitales/2022.09.08/IMG_0060.JPG', '/mnt/batch/tasks/shared/LS_root/mounts/clusters/compute-gpu-changins/code/Users/aurelie.dejong.agroscope/Agroscope_codes/other_codes/crop_frames/../../../data/photos_zenitales/2022.09.08/IMG_0061.JPG', '/mnt/batch/tasks/shared/LS_root/mounts/clusters/compute-gpu-changins/code/Users/aurelie.dejong.agroscope/Agroscope_codes/other_codes/crop_frames/../../../data/photos_zenitales/2022.09.08/IMG_0062.JPG', '/mnt/batch/tasks/shared/LS_root/mounts/clusters/compute-gpu-changins/code/Users/aurelie.dejong.agroscope/Agroscope_codes/other_codes/crop_frames/../../../data/photos_zenitales/2022.09.08/IMG_0065.JPG', '/mnt/batch/tasks/shared/LS_root/mounts/clusters/compute-gpu-changins/code/Users/aurelie.dejong.agroscope/Agroscope_codes/other_codes/crop_frames/../../../data/photos_zenitales/2022.09.08/IMG_0066.JPG', '/mnt/batch/tasks/shared/LS_root/mounts/clusters/compute-gpu-changins/code/Users/aurelie.dejong.agroscope/Agroscope_codes/other_codes/crop_frames/../../../data/photos_zenitales/2022.09.08/IMG_0070.JPG', '/mnt/batch/tasks/shared/LS_root/mounts/clusters/compute-gpu-changins/code/Users/aurelie.dejong.agroscope/Agroscope_codes/other_codes/crop_frames/../../../data/photos_zenitales/2022.09.08/IMG_0073.JPG', '/mnt/batch/tasks/shared/LS_root/mounts/clusters/compute-gpu-changins/code/Users/aurelie.dejong.agroscope/Agroscope_codes/other_codes/crop_frames/../../../data/photos_zenitales/2022.09.08/IMG_0075.JPG', '/mnt/batch/tasks/shared/LS_root/mounts/clusters/compute-gpu-changins/code/Users/aurelie.dejong.agroscope/Agroscope_codes/other_codes/crop_frames/../../../data/photos_zenitales/2022.09.08/IMG_0077.JPG', '/mnt/batch/tasks/shared/LS_root/mounts/clusters/compute-gpu-changins/code/Users/aurelie.dejong.agroscope/Agroscope_codes/other_codes/crop_frames/../../../data/photos_zenitales/2022.09.08/IMG_0079.JPG', '/mnt/batch/tasks/shared/LS_root/mounts/clusters/compute-gpu-changins/code/Users/aurelie.dejong.agroscope/Agroscope_codes/other_codes/crop_frames/../../../data/photos_zenitales/2022.09.08/IMG_0080.JPG', '/mnt/batch/tasks/shared/LS_root/mounts/clusters/compute-gpu-changins/code/Users/aurelie.dejong.agroscope/Agroscope_codes/other_codes/crop_frames/../../../data/photos_zenitales/2022.09.08/IMG_0081.JPG', '/mnt/batch/tasks/shared/LS_root/mounts/clusters/compute-gpu-changins/code/Users/aurelie.dejong.agroscope/Agroscope_codes/other_codes/crop_frames/../../../data/photos_zenitales/2022.09.08/IMG_0082.JPG', '/mnt/batch/tasks/shared/LS_root/mounts/clusters/compute-gpu-changins/code/Users/aurelie.dejong.agroscope/Agroscope_codes/other_codes/crop_frames/../../../data/photos_zenitales/2022.09.08/IMG_0083.JPG', '/mnt/batch/tasks/shared/LS_root/mounts/clusters/compute-gpu-changins/code/Users/aurelie.dejong.agroscope/Agroscope_codes/other_codes/crop_frames/../../../data/photos_zenitales/2022.09.08/IMG_0084.JPG', '/mnt/batch/tasks/shared/LS_root/mounts/clusters/compute-gpu-changins/code/Users/aurelie.dejong.agroscope/Agroscope_codes/other_codes/crop_frames/../../../data/photos_zenitales/2022.09.08/IMG_0087.JPG', '/mnt/batch/tasks/shared/LS_root/mounts/clusters/compute-gpu-changins/code/Users/aurelie.dejong.agroscope/Agroscope_codes/other_codes/crop_frames/../../../data/photos_zenitales/2022.09.08/IMG_0090.JPG', '/mnt/batch/tasks/shared/LS_root/mounts/clusters/compute-gpu-changins/code/Users/aurelie.dejong.agroscope/Agroscope_codes/other_codes/crop_frames/../../../data/photos_zenitales/2022.09.08/IMG_0091.JPG', '/mnt/batch/tasks/shared/LS_root/mounts/clusters/compute-gpu-changins/code/Users/aurelie.dejong.agroscope/Agroscope_codes/other_codes/crop_frames/../../../data/photos_zenitales/2022.09.08/IMG_0093.JPG', '/mnt/batch/tasks/shared/LS_root/mounts/clusters/compute-gpu-changins/code/Users/aurelie.dejong.agroscope/Agroscope_codes/other_codes/crop_frames/../../../data/photos_zenitales/2022.09.08/IMG_0094.JPG', '/mnt/batch/tasks/shared/LS_root/mounts/clusters/compute-gpu-changins/code/Users/aurelie.dejong.agroscope/Agroscope_codes/other_codes/crop_frames/../../../data/photos_zenitales/2022.09.08/IMG_0095.JPG', '/mnt/batch/tasks/shared/LS_root/mounts/clusters/compute-gpu-changins/code/Users/aurelie.dejong.agroscope/Agroscope_codes/other_codes/crop_frames/../../../data/photos_zenitales/2022.09.08/IMG_0096.JPG', '/mnt/batch/tasks/shared/LS_root/mounts/clusters/compute-gpu-changins/code/Users/aurelie.dejong.agroscope/Agroscope_codes/other_codes/crop_frames/../../../data/photos_zenitales/2022.09.08/IMG_0097.JPG', '/mnt/batch/tasks/shared/LS_root/mounts/clusters/compute-gpu-changins/code/Users/aurelie.dejong.agroscope/Agroscope_codes/other_codes/crop_frames/../../../data/photos_zenitales/2022.09.08/IMG_0105.JPG', '/mnt/batch/tasks/shared/LS_root/mounts/clusters/compute-gpu-changins/code/Users/aurelie.dejong.agroscope/Agroscope_codes/other_codes/crop_frames/../../../data/photos_zenitales/2022.09.08/IMG_0106.JPG', '/mnt/batch/tasks/shared/LS_root/mounts/clusters/compute-gpu-changins/code/Users/aurelie.dejong.agroscope/Agroscope_codes/other_codes/crop_frames/../../../data/photos_zenitales/2022.09.08/IMG_0107.JPG', '/mnt/batch/tasks/shared/LS_root/mounts/clusters/compute-gpu-changins/code/Users/aurelie.dejong.agroscope/Agroscope_codes/other_codes/crop_frames/../../../data/photos_zenitales/2022.09.08/IMG_0109.JPG', '/mnt/batch/tasks/shared/LS_root/mounts/clusters/compute-gpu-changins/code/Users/aurelie.dejong.agroscope/Agroscope_codes/other_codes/crop_frames/../../../data/photos_zenitales/2022.09.08/IMG_0112.JPG', '/mnt/batch/tasks/shared/LS_root/mounts/clusters/compute-gpu-changins/code/Users/aurelie.dejong.agroscope/Agroscope_codes/other_codes/crop_frames/../../../data/photos_zenitales/2022.09.08/IMG_0113.JPG', '/mnt/batch/tasks/shared/LS_root/mounts/clusters/compute-gpu-changins/code/Users/aurelie.dejong.agroscope/Agroscope_codes/other_codes/crop_frames/../../../data/photos_zenitales/2022.09.08/IMG_0118.JPG', '/mnt/batch/tasks/shared/LS_root/mounts/clusters/compute-gpu-changins/code/Users/aurelie.dejong.agroscope/Agroscope_codes/other_codes/crop_frames/../../../data/photos_zenitales/2022.09.08/IMG_0123.JPG', '/mnt/batch/tasks/shared/LS_root/mounts/clusters/compute-gpu-changins/code/Users/aurelie.dejong.agroscope/Agroscope_codes/other_codes/crop_frames/../../../data/photos_zenitales/2022.09.08/Thumbs.db']\n"
        }
      ],
      "execution_count": 8,
      "metadata": {
        "gather": {
          "logged": 1677055839950
        }
      }
    },
    {
      "cell_type": "code",
      "source": [
        "\n",
        "\n",
        "args = DebugArgs(input_dir, output_dir, )\n",
        "crop(args)"
      ],
      "outputs": [],
      "execution_count": null,
      "metadata": {
        "gather": {
          "logged": 1677054685547
        }
      }
    },
    {
      "cell_type": "code",
      "source": [],
      "outputs": [],
      "execution_count": null,
      "metadata": {}
    }
  ],
  "metadata": {
    "kernelspec": {
      "name": "python3",
      "language": "python",
      "display_name": "Python 3 (ipykernel)"
    },
    "language_info": {
      "name": "python",
      "version": "3.8.5",
      "mimetype": "text/x-python",
      "codemirror_mode": {
        "name": "ipython",
        "version": 3
      },
      "pygments_lexer": "ipython3",
      "nbconvert_exporter": "python",
      "file_extension": ".py"
    },
    "orig_nbformat": 4,
    "vscode": {
      "interpreter": {
        "hash": "10a1eba0a72b74e0c4df1ca223901cbcb1c5318741455c15bea9eb99ba15a606"
      }
    },
    "microsoft": {
      "ms_spell_check": {
        "ms_spell_check_language": "en"
      },
      "host": {
        "AzureML": {
          "notebookHasBeenCompleted": true
        }
      }
    },
    "kernel_info": {
      "name": "python3"
    },
    "nteract": {
      "version": "nteract-front-end@1.0.0"
    }
  },
  "nbformat": 4,
  "nbformat_minor": 2
}